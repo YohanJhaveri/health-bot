{
 "cells": [
  {
   "cell_type": "code",
   "execution_count": 8,
   "id": "civil-serial",
   "metadata": {},
   "outputs": [],
   "source": [
    "import pandas as pd\n",
    "\n",
    "df = pd.read_csv('sr28abxl_ABBREV.csv')\n",
    "#df = df.head(200)\n",
    "#df = df.iloc[[49]]\n",
    "myTable = pd.read_csv('terriblePDFtoExcel.csv')\n",
    "#print(df)\n",
    "#print(df.head(50))\n",
    "#print(df.iloc[[49]])"
   ]
  },
  {
   "cell_type": "code",
   "execution_count": 9,
   "id": "inside-difficulty",
   "metadata": {},
   "outputs": [],
   "source": [
    "count = 0\n",
    "for desc in df['Shrt_Desc']:\n",
    "    desc = desc.split(\",\")\n",
    "    result = \"\"\n",
    "    for token in desc:\n",
    "        if myTable['ABBREV'].str.contains(token, regex = False).any():\n",
    "            token = myTable[myTable['ABBREV'].str.contains(token, regex = False)].iloc[0]['FOOD']\n",
    "            result = result + token.upper() + \",\"\n",
    "        elif ' ' in token:\n",
    "            elements = token.split(' ')\n",
    "            for element in elements:\n",
    "                if myTable['ABBREV'].str.contains(element, regex = False).any():\n",
    "                    element = myTable[myTable['ABBREV'].str.contains(element, regex = False)].iloc[0]['FOOD']\n",
    "                    result = result + element.upper() + \" \"\n",
    "                else:\n",
    "                    result = result + element + \" \"\n",
    "            result = result[:-1] + \",\"\n",
    "        else:\n",
    "            result = result + token + \",\" \n",
    "            \n",
    "    result = result[:-1]\n",
    "    df.at[count,'Shrt_Desc']=result\n",
    "    count = count + 1\n",
    "df.to_csv (\"export_dataframe.csv\", index = False)\n",
    "#print (df)\n",
    "\n"
   ]
  },
  {
   "cell_type": "code",
   "execution_count": null,
   "id": "talented-penguin",
   "metadata": {},
   "outputs": [],
   "source": []
  }
 ],
 "metadata": {
  "kernelspec": {
   "display_name": "Python 3",
   "language": "python",
   "name": "python3"
  },
  "language_info": {
   "codemirror_mode": {
    "name": "ipython",
    "version": 3
   },
   "file_extension": ".py",
   "mimetype": "text/x-python",
   "name": "python",
   "nbconvert_exporter": "python",
   "pygments_lexer": "ipython3",
   "version": "3.9.1"
  }
 },
 "nbformat": 4,
 "nbformat_minor": 5
}
