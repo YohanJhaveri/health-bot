{
 "cells": [
  {
   "cell_type": "markdown",
   "id": "attached-stuart",
   "metadata": {},
   "source": [
    "Loading data into Pandas "
   ]
  },
  {
   "cell_type": "code",
<<<<<<< HEAD
   "execution_count": 7,
=======
   "execution_count": 1,
>>>>>>> 7c5561b5aa4b239fce0c4bf35f1f93e9ce0a0112
   "id": "emerging-melissa",
   "metadata": {},
   "outputs": [
    {
     "name": "stdout",
     "output_type": "stream",
     "text": [
<<<<<<< HEAD
      "0                        BUTTER,WITH SALT\n",
      "1                  BUTTER,WHIPPED,W/ SALT\n",
      "2                    BUTTER OIL,ANHYDROUS\n",
      "3                             CHEESE,BLUE\n",
      "4                            CHEESE,BRICK\n",
      "5                             CHEESE,BRIE\n",
      "6                        CHEESE,CAMEMBERT\n",
      "7                          CHEESE,CARAWAY\n",
      "8                          CHEESE,CHEDDAR\n",
      "9                         CHEESE,CHESHIRE\n",
      "10                           CHEESE,COLBY\n",
      "11    CHEESE,COTTAGE,CRMD,LRG OR SML CURD\n",
      "Name: Shrt_Desc, dtype: object\n",
      "    NDB_No                            Shrt_Desc  Water_(g)  Energ_Kcal  \\\n",
      "0     1001                     BUTTER,WITH SALT      15.87         717   \n",
      "1     1002               BUTTER,WHIPPED,W/ SALT      16.72         718   \n",
      "2     1003                 BUTTER OIL,ANHYDROUS       0.24         876   \n",
      "3     1004                          CHEESE,BLUE      42.41         353   \n",
      "4     1005                         CHEESE,BRICK      41.11         371   \n",
      "5     1006                          CHEESE,BRIE      48.42         334   \n",
      "6     1007                     CHEESE,CAMEMBERT      51.80         300   \n",
      "7     1008                       CHEESE,CARAWAY      39.28         376   \n",
      "8     1009                       CHEESE,CHEDDAR      37.02         404   \n",
      "9     1010                      CHEESE,CHESHIRE      37.65         387   \n",
      "10    1011                         CHEESE,COLBY      38.20         394   \n",
      "11    1012  CHEESE,COTTAGE,CRMD,LRG OR SML CURD      79.79          98   \n",
      "\n",
      "    Protein_(g)  \n",
      "0          0.85  \n",
      "1          0.49  \n",
      "2          0.28  \n",
      "3         21.40  \n",
      "4         23.24  \n",
      "5         20.75  \n",
      "6         19.80  \n",
      "7         25.18  \n",
      "8         22.87  \n",
      "9         23.37  \n",
      "10        23.76  \n",
      "11        11.12  \n"
=======
      "             FOOD     ABBREV\n",
      "0     All purpose   ALLPURP \n",
      "1        Aluminum         AL\n",
      "2             And          &\n",
      "3           Apple      APPL \n",
      "4          Apples     APPLS \n",
      "5     Applesauce   APPLSAUC \n",
      "6    Approximate     APPROX \n",
      "7   Approximately    APPROX \n",
      "8  Arm and blade    ARM&BLD \n",
      "9      Artificial       ART \n",
      "    NDB_No               Shrt_Desc  Water_(g)  Energ_Kcal  Protein_(g)\n",
      "0     1001        BUTTER,WITH SALT      15.87         717         0.85\n",
      "1     1002  BUTTER,WHIPPED,W/ SALT      16.72         718         0.49\n",
      "2     1003    BUTTER OIL,ANHYDROUS       0.24         876         0.28\n",
      "3     1004             CHEESE,BLUE      42.41         353        21.40\n",
      "4     1005            CHEESE,BRICK      41.11         371        23.24\n",
      "5     1006             CHEESE,BRIE      48.42         334        20.75\n",
      "6     1007        CHEESE,CAMEMBERT      51.80         300        19.80\n",
      "7     1008          CHEESE,CARAWAY      39.28         376        25.18\n",
      "8     1009          CHEESE,CHEDDAR      37.02         404        22.87\n",
      "9     1010         CHEESE,CHESHIRE      37.65         387        23.37\n",
      "10    1011            CHEESE,COLBY      38.20         394        23.76\n"
>>>>>>> 7c5561b5aa4b239fce0c4bf35f1f93e9ce0a0112
     ]
    }
   ],
   "source": [
    "import pandas as pd\n",
    "\n",
<<<<<<< HEAD
    "df = pd.read_csv('11x5entries.csv')\n",
    "myTable = pd.read_csv('terriblePDFtoExcel.csv')\n",
    "print(df['Shrt_Desc'])\n",
=======
    "df = pd.read_csv('usda_abbrev.csv')\n",
    "myTable = pd.read_csv('terriblePDFtoExcel.csv')\n",
    "print(myTable.head(10))\n",
>>>>>>> 7c5561b5aa4b239fce0c4bf35f1f93e9ce0a0112
    "#print(df.head(5))\n",
    "print(df)"
   ]
  },
  {
   "cell_type": "markdown",
   "id": "dependent-satellite",
   "metadata": {},
   "source": [
    "Reading data "
   ]
  },
  {
   "cell_type": "code",
<<<<<<< HEAD
   "execution_count": 9,
=======
   "execution_count": 16,
>>>>>>> 7c5561b5aa4b239fce0c4bf35f1f93e9ce0a0112
   "id": "blank-kennedy",
   "metadata": {},
   "outputs": [
    {
     "name": "stdout",
     "output_type": "stream",
     "text": [
<<<<<<< HEAD
      "    NDB_No                                          Shrt_Desc  Water_(g)  \\\n",
      "0     1001                                   BUTTER,WITH SALT      15.87   \n",
      "1     1002                           BUTTER,WHIPPED,WITH SALT      16.72   \n",
      "2     1003                               BUTTER OIL,ANHYDROUS       0.24   \n",
      "3     1004                                        CHEESE,BLUE      42.41   \n",
      "4     1005                                       CHEESE,BRICK      41.11   \n",
      "5     1006                                        CHEESE,BRIE      48.42   \n",
      "6     1007                                   CHEESE,CAMEMBERT      51.80   \n",
      "7     1008                                     CHEESE,CARAWAY      39.28   \n",
      "8     1009                                     CHEESE,CHEDDAR      37.02   \n",
      "9     1010                                    CHEESE,CHESHIRE      37.65   \n",
      "10    1011                                       CHEESE,COLBY      38.20   \n",
      "11    1012  CHEESE,COTTAGE,CREAMED,LARGE DECORTICATED SMAL...      79.79   \n",
      "\n",
      "    Energ_Kcal  Protein_(g)  \n",
      "0          717         0.85  \n",
      "1          718         0.49  \n",
      "2          876         0.28  \n",
      "3          353        21.40  \n",
      "4          371        23.24  \n",
      "5          334        20.75  \n",
      "6          300        19.80  \n",
      "7          376        25.18  \n",
      "8          404        22.87  \n",
      "9          387        23.37  \n",
      "10         394        23.76  \n",
      "11          98        11.12  \n"
=======
      "BUTTER\n",
      "WITH SALT\n",
      "tokenSSS ['WITH', 'SALT']\n",
      "shold hv w/ WITH\n",
      "shold hv w/ SALT\n",
      "BUTTER\n",
      "WHIPPED\n",
      "W/ SALT\n",
      "tokenSSS ['W/', 'SALT']\n",
      "shold hv w/ W/\n",
      "enteringggg if\n"
     ]
    },
    {
     "ename": "IndexError",
     "evalue": "single positional indexer is out-of-bounds",
     "output_type": "error",
     "traceback": [
      "\u001B[0;31m---------------------------------------------------------------------------\u001B[0m",
      "\u001B[0;31mIndexError\u001B[0m                                Traceback (most recent call last)",
      "\u001B[0;32m<ipython-input-16-67fc91e6da9c>\u001B[0m in \u001B[0;36m<module>\u001B[0;34m\u001B[0m\n\u001B[1;32m     14\u001B[0m                 \u001B[0;32mif\u001B[0m \u001B[0mmyTable\u001B[0m\u001B[0;34m[\u001B[0m\u001B[0;34m'ABBREV'\u001B[0m\u001B[0;34m]\u001B[0m\u001B[0;34m.\u001B[0m\u001B[0mstr\u001B[0m\u001B[0;34m.\u001B[0m\u001B[0mcontains\u001B[0m\u001B[0;34m(\u001B[0m\u001B[0mtoken\u001B[0m\u001B[0;34m)\u001B[0m\u001B[0;34m.\u001B[0m\u001B[0many\u001B[0m\u001B[0;34m(\u001B[0m\u001B[0;34m)\u001B[0m\u001B[0;34m:\u001B[0m\u001B[0;34m\u001B[0m\u001B[0;34m\u001B[0m\u001B[0m\n\u001B[1;32m     15\u001B[0m                     \u001B[0mprint\u001B[0m\u001B[0;34m(\u001B[0m\u001B[0;34m\"enteringggg if\"\u001B[0m\u001B[0;34m)\u001B[0m\u001B[0;34m\u001B[0m\u001B[0;34m\u001B[0m\u001B[0m\n\u001B[0;32m---> 16\u001B[0;31m                     \u001B[0mtoken\u001B[0m \u001B[0;34m=\u001B[0m \u001B[0mmyTable\u001B[0m\u001B[0;34m.\u001B[0m\u001B[0mloc\u001B[0m\u001B[0;34m[\u001B[0m\u001B[0mmyTable\u001B[0m\u001B[0;34m[\u001B[0m\u001B[0;34m'ABBREV'\u001B[0m\u001B[0;34m]\u001B[0m \u001B[0;34m==\u001B[0m \u001B[0mtoken\u001B[0m\u001B[0;34m,\u001B[0m \u001B[0;34m'FOOD'\u001B[0m\u001B[0;34m]\u001B[0m\u001B[0;34m.\u001B[0m\u001B[0miloc\u001B[0m\u001B[0;34m[\u001B[0m\u001B[0;36m0\u001B[0m\u001B[0;34m]\u001B[0m\u001B[0;34m\u001B[0m\u001B[0;34m\u001B[0m\u001B[0m\n\u001B[0m\u001B[1;32m     17\u001B[0m                     \u001B[0mprint\u001B[0m\u001B[0;34m(\u001B[0m\u001B[0;34m\"printing\"\u001B[0m\u001B[0;34m,\u001B[0m\u001B[0mtoken\u001B[0m\u001B[0;34m)\u001B[0m\u001B[0;34m\u001B[0m\u001B[0;34m\u001B[0m\u001B[0m\n\u001B[1;32m     18\u001B[0m     \u001B[0;31m#print(\"after,\", desc)\u001B[0m\u001B[0;34m\u001B[0m\u001B[0;34m\u001B[0m\u001B[0;34m\u001B[0m\u001B[0m\n",
      "\u001B[0;32m/Library/Frameworks/Python.framework/Versions/3.9/lib/python3.9/site-packages/pandas/core/indexing.py\u001B[0m in \u001B[0;36m__getitem__\u001B[0;34m(self, key)\u001B[0m\n\u001B[1;32m    893\u001B[0m \u001B[0;34m\u001B[0m\u001B[0m\n\u001B[1;32m    894\u001B[0m             \u001B[0mmaybe_callable\u001B[0m \u001B[0;34m=\u001B[0m \u001B[0mcom\u001B[0m\u001B[0;34m.\u001B[0m\u001B[0mapply_if_callable\u001B[0m\u001B[0;34m(\u001B[0m\u001B[0mkey\u001B[0m\u001B[0;34m,\u001B[0m \u001B[0mself\u001B[0m\u001B[0;34m.\u001B[0m\u001B[0mobj\u001B[0m\u001B[0;34m)\u001B[0m\u001B[0;34m\u001B[0m\u001B[0;34m\u001B[0m\u001B[0m\n\u001B[0;32m--> 895\u001B[0;31m             \u001B[0;32mreturn\u001B[0m \u001B[0mself\u001B[0m\u001B[0;34m.\u001B[0m\u001B[0m_getitem_axis\u001B[0m\u001B[0;34m(\u001B[0m\u001B[0mmaybe_callable\u001B[0m\u001B[0;34m,\u001B[0m \u001B[0maxis\u001B[0m\u001B[0;34m=\u001B[0m\u001B[0maxis\u001B[0m\u001B[0;34m)\u001B[0m\u001B[0;34m\u001B[0m\u001B[0;34m\u001B[0m\u001B[0m\n\u001B[0m\u001B[1;32m    896\u001B[0m \u001B[0;34m\u001B[0m\u001B[0m\n\u001B[1;32m    897\u001B[0m     \u001B[0;32mdef\u001B[0m \u001B[0m_is_scalar_access\u001B[0m\u001B[0;34m(\u001B[0m\u001B[0mself\u001B[0m\u001B[0;34m,\u001B[0m \u001B[0mkey\u001B[0m\u001B[0;34m:\u001B[0m \u001B[0mTuple\u001B[0m\u001B[0;34m)\u001B[0m\u001B[0;34m:\u001B[0m\u001B[0;34m\u001B[0m\u001B[0;34m\u001B[0m\u001B[0m\n",
      "\u001B[0;32m/Library/Frameworks/Python.framework/Versions/3.9/lib/python3.9/site-packages/pandas/core/indexing.py\u001B[0m in \u001B[0;36m_getitem_axis\u001B[0;34m(self, key, axis)\u001B[0m\n\u001B[1;32m   1499\u001B[0m \u001B[0;34m\u001B[0m\u001B[0m\n\u001B[1;32m   1500\u001B[0m             \u001B[0;31m# validate the location\u001B[0m\u001B[0;34m\u001B[0m\u001B[0;34m\u001B[0m\u001B[0;34m\u001B[0m\u001B[0m\n\u001B[0;32m-> 1501\u001B[0;31m             \u001B[0mself\u001B[0m\u001B[0;34m.\u001B[0m\u001B[0m_validate_integer\u001B[0m\u001B[0;34m(\u001B[0m\u001B[0mkey\u001B[0m\u001B[0;34m,\u001B[0m \u001B[0maxis\u001B[0m\u001B[0;34m)\u001B[0m\u001B[0;34m\u001B[0m\u001B[0;34m\u001B[0m\u001B[0m\n\u001B[0m\u001B[1;32m   1502\u001B[0m \u001B[0;34m\u001B[0m\u001B[0m\n\u001B[1;32m   1503\u001B[0m             \u001B[0;32mreturn\u001B[0m \u001B[0mself\u001B[0m\u001B[0;34m.\u001B[0m\u001B[0mobj\u001B[0m\u001B[0;34m.\u001B[0m\u001B[0m_ixs\u001B[0m\u001B[0;34m(\u001B[0m\u001B[0mkey\u001B[0m\u001B[0;34m,\u001B[0m \u001B[0maxis\u001B[0m\u001B[0;34m=\u001B[0m\u001B[0maxis\u001B[0m\u001B[0;34m)\u001B[0m\u001B[0;34m\u001B[0m\u001B[0;34m\u001B[0m\u001B[0m\n",
      "\u001B[0;32m/Library/Frameworks/Python.framework/Versions/3.9/lib/python3.9/site-packages/pandas/core/indexing.py\u001B[0m in \u001B[0;36m_validate_integer\u001B[0;34m(self, key, axis)\u001B[0m\n\u001B[1;32m   1442\u001B[0m         \u001B[0mlen_axis\u001B[0m \u001B[0;34m=\u001B[0m \u001B[0mlen\u001B[0m\u001B[0;34m(\u001B[0m\u001B[0mself\u001B[0m\u001B[0;34m.\u001B[0m\u001B[0mobj\u001B[0m\u001B[0;34m.\u001B[0m\u001B[0m_get_axis\u001B[0m\u001B[0;34m(\u001B[0m\u001B[0maxis\u001B[0m\u001B[0;34m)\u001B[0m\u001B[0;34m)\u001B[0m\u001B[0;34m\u001B[0m\u001B[0;34m\u001B[0m\u001B[0m\n\u001B[1;32m   1443\u001B[0m         \u001B[0;32mif\u001B[0m \u001B[0mkey\u001B[0m \u001B[0;34m>=\u001B[0m \u001B[0mlen_axis\u001B[0m \u001B[0;32mor\u001B[0m \u001B[0mkey\u001B[0m \u001B[0;34m<\u001B[0m \u001B[0;34m-\u001B[0m\u001B[0mlen_axis\u001B[0m\u001B[0;34m:\u001B[0m\u001B[0;34m\u001B[0m\u001B[0;34m\u001B[0m\u001B[0m\n\u001B[0;32m-> 1444\u001B[0;31m             \u001B[0;32mraise\u001B[0m \u001B[0mIndexError\u001B[0m\u001B[0;34m(\u001B[0m\u001B[0;34m\"single positional indexer is out-of-bounds\"\u001B[0m\u001B[0;34m)\u001B[0m\u001B[0;34m\u001B[0m\u001B[0;34m\u001B[0m\u001B[0m\n\u001B[0m\u001B[1;32m   1445\u001B[0m \u001B[0;34m\u001B[0m\u001B[0m\n\u001B[1;32m   1446\u001B[0m     \u001B[0;31m# -------------------------------------------------------------------\u001B[0m\u001B[0;34m\u001B[0m\u001B[0;34m\u001B[0m\u001B[0;34m\u001B[0m\u001B[0m\n",
      "\u001B[0;31mIndexError\u001B[0m: single positional indexer is out-of-bounds"
>>>>>>> 7c5561b5aa4b239fce0c4bf35f1f93e9ce0a0112
     ]
    }
   ],
   "source": [
<<<<<<< HEAD
    "count = 0\n",
    "for desc in df['Shrt_Desc']:\n",
    "    desc = desc.split(\",\")\n",
    "    result = \"\"\n",
    "    for token in desc:\n",
    "        if myTable['ABBREV'].str.contains(token).any():\n",
    "            token = myTable[myTable['ABBREV'].str.match(token)].iloc[0]['FOOD']\n",
    "            result = result + token.upper() + \",\"\n",
    "        elif ' ' in token:\n",
    "            elements = token.split(' ')\n",
    "            for element in elements:\n",
    "                if myTable['ABBREV'].str.contains(element).any():\n",
    "                    element = myTable[myTable['ABBREV'].str.contains(element, regex = False)].iloc[0]['FOOD']\n",
    "                    result = result + element.upper() + \" \"\n",
    "                else:\n",
    "                    result = result + element + \" \"\n",
    "            result = result[:-1] + \",\"\n",
    "        else:\n",
    "            result = result + token + \",\" \n",
    "            \n",
    "    result = result[:-1]\n",
    "    df.at[count,'Shrt_Desc']=result\n",
    "    count = count + 1\n",
    "\n",
    "print (df)\n"
=======
    "for desc in df['Shrt_Desc']:\n",
    "    #print(desc)\n",
    "    desc = desc.split(',')\n",
    "    for token in desc:\n",
    "        print(token)\n",
    "        if myTable['ABBREV'].str.contains(token).any():\n",
    "            token = myTable.loc[myTable['ABBREV'] == token, 'FOOD'].iloc[0]\n",
    "            #print(\"printing\",token)\n",
    "        elif ' ' in token:\n",
    "            tokens = token.split(' ')\n",
    "            print(\"tokenSSS\", tokens)\n",
    "            for token in tokens:\n",
    "                print(\"shold hv w/\",token)\n",
    "                if myTable['ABBREV'].str.contains(token).any():\n",
    "                    print(\"enteringggg if\")\n",
    "                    token = myTable.loc[myTable['ABBREV'] == token, 'FOOD'].iloc[0]\n",
    "                    print(\"printing\",token)\n",
    "    #print(\"after,\", desc)\n"
>>>>>>> 7c5561b5aa4b239fce0c4bf35f1f93e9ce0a0112
   ]
  },
  {
   "cell_type": "code",
   "execution_count": null,
<<<<<<< HEAD
   "id": "sensitive-giving",
=======
   "id": "growing-separation",
>>>>>>> 7c5561b5aa4b239fce0c4bf35f1f93e9ce0a0112
   "metadata": {},
   "outputs": [],
   "source": []
  }
 ],
 "metadata": {
  "kernelspec": {
   "display_name": "Python 3",
   "language": "python",
   "name": "python3"
  },
  "language_info": {
   "codemirror_mode": {
    "name": "ipython",
    "version": 3
   },
   "file_extension": ".py",
   "mimetype": "text/x-python",
   "name": "python",
   "nbconvert_exporter": "python",
   "pygments_lexer": "ipython3",
   "version": "3.9.1"
  }
 },
 "nbformat": 4,
 "nbformat_minor": 5
}