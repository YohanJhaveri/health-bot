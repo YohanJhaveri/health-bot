{
 "cells": [
  {
   "cell_type": "markdown",
   "id": "attached-stuart",
   "metadata": {},
   "source": [
    "Loading data into Pandas "
   ]
  },
  {
   "cell_type": "code",
   "execution_count": 2,
   "id": "emerging-melissa",
   "metadata": {},
   "outputs": [
    {
     "name": "stdout",
     "output_type": "stream",
     "text": [
      "    NDB_No               Shrt_Desc  Water_(g)  Energ_Kcal  Protein_(g)\n",
      "0     1001        BUTTER,WITH SALT      15.87         717         0.85\n",
      "1     1002  BUTTER,WHIPPED,W/ SALT      16.72         718         0.49\n",
      "2     1003    BUTTER OIL,ANHYDROUS       0.24         876         0.28\n",
      "3     1004             CHEESE,BLUE      42.41         353        21.40\n",
      "4     1005            CHEESE,BRICK      41.11         371        23.24\n",
      "5     1006             CHEESE,BRIE      48.42         334        20.75\n",
      "6     1007        CHEESE,CAMEMBERT      51.80         300        19.80\n",
      "7     1008          CHEESE,CARAWAY      39.28         376        25.18\n",
      "8     1009          CHEESE,CHEDDAR      37.02         404        22.87\n",
      "9     1010         CHEESE,CHESHIRE      37.65         387        23.37\n",
      "10    1011            CHEESE,COLBY      38.20         394        23.76\n"
     ]
    }
   ],
   "source": [
    "import pandas as pd\n",
    "\n",
    "df = pd.read_csv('11x5entries.csv')\n",
    "\n",
    "#print(df.head(5))\n",
    "print(df)"
   ]
  },
  {
   "cell_type": "markdown",
   "id": "dependent-satellite",
   "metadata": {},
   "source": [
    "Reading data "
   ]
  },
  {
   "cell_type": "code",
   "execution_count": 3,
   "id": "first-popularity",
   "metadata": {},
   "outputs": [
    {
     "name": "stdout",
     "output_type": "stream",
     "text": [
      "0           BUTTER,WITH SALT\n",
      "1     BUTTER,WHIPPED,W/ SALT\n",
      "2       BUTTER OIL,ANHYDROUS\n",
      "3                CHEESE,BLUE\n",
      "4               CHEESE,BRICK\n",
      "5                CHEESE,BRIE\n",
      "6           CHEESE,CAMEMBERT\n",
      "7             CHEESE,CARAWAY\n",
      "8             CHEESE,CHEDDAR\n",
      "9            CHEESE,CHESHIRE\n",
      "10              CHEESE,COLBY\n",
      "Name: Shrt_Desc, dtype: object\n"
     ]
    }
   ],
   "source": [
    "print(df['Shrt_Desc'])"
   ]
  },
  {
   "cell_type": "code",
   "execution_count": null,
   "id": "blank-kennedy",
   "metadata": {},
   "outputs": [],
   "source": []
  }
 ],
 "metadata": {
  "kernelspec": {
   "display_name": "Python 3",
   "language": "python",
   "name": "python3"
  },
  "language_info": {
   "codemirror_mode": {
    "name": "ipython",
    "version": 3
   },
   "file_extension": ".py",
   "mimetype": "text/x-python",
   "name": "python",
   "nbconvert_exporter": "python",
   "pygments_lexer": "ipython3",
   "version": "3.9.1"
  }
 },
 "nbformat": 4,
 "nbformat_minor": 5
}
