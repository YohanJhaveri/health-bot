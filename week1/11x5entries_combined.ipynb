{
 "cells": [
  {
   "cell_type": "markdown",
   "id": "attached-stuart",
   "metadata": {},
   "source": [
    "Loading data into Pandas "
   ]
  },
  {
   "cell_type": "code",
   "execution_count": 18,
   "id": "emerging-melissa",
   "metadata": {},
   "outputs": [
    {
     "name": "stdout",
     "output_type": "stream",
     "text": [
      "            FOOD    ABBREV\n",
      "0    All purpose  ALLPURP \n",
      "1       Aluminum        AL\n",
      "2            And         &\n",
      "3          Apple     APPL \n",
      "4         Apples    APPLS \n",
      "..           ...       ...\n",
      "231        Whole       WHL\n",
      "232       Winter      WNTR\n",
      "233         With        W/\n",
      "234      Without       WO/\n",
      "235       Yellow       YEL\n",
      "\n",
      "[236 rows x 2 columns]\n",
      "    NDB_No                            Shrt_Desc  Water_(g)  Energ_Kcal  \\\n",
      "0     1001                     BUTTER,WITH SALT      15.87         717   \n",
      "1     1002               BUTTER,WHIPPED,W/ SALT      16.72         718   \n",
      "2     1003                 BUTTER OIL,ANHYDROUS       0.24         876   \n",
      "3     1004                          CHEESE,BLUE      42.41         353   \n",
      "4     1005                         CHEESE,BRICK      41.11         371   \n",
      "5     1006                          CHEESE,BRIE      48.42         334   \n",
      "6     1007                     CHEESE,CAMEMBERT      51.80         300   \n",
      "7     1008                       CHEESE,CARAWAY      39.28         376   \n",
      "8     1009                       CHEESE,CHEDDAR      37.02         404   \n",
      "9     1010                      CHEESE,CHESHIRE      37.65         387   \n",
      "10    1011                         CHEESE,COLBY      38.20         394   \n",
      "11    1012  CHEESE,COTTAGE,CRMD,LRG OR SML CURD      79.79          98   \n",
      "\n",
      "    Protein_(g)  \n",
      "0          0.85  \n",
      "1          0.49  \n",
      "2          0.28  \n",
      "3         21.40  \n",
      "4         23.24  \n",
      "5         20.75  \n",
      "6         19.80  \n",
      "7         25.18  \n",
      "8         22.87  \n",
      "9         23.37  \n",
      "10        23.76  \n",
      "11        11.12  \n"
     ]
    }
   ],
   "source": [
    "import pandas as pd\n",
    "\n",
    "df = pd.read_csv('11x5entries.csv')\n",
    "myTable = pd.read_csv('terriblePDFtoExcel.csv')\n",
    "print(myTable)\n",
    "#print(df.head(5))\n",
    "print(df)"
   ]
  },
  {
   "cell_type": "markdown",
   "id": "dependent-satellite",
   "metadata": {},
   "source": [
    "Reading data "
   ]
  },
  {
   "cell_type": "code",
   "execution_count": 20,
   "id": "blank-kennedy",
   "metadata": {},
   "outputs": [
    {
     "name": "stdout",
     "output_type": "stream",
     "text": [
      "NDB_No           int64\n",
      "Shrt_Desc       object\n",
      "Water_(g)      float64\n",
      "Energ_Kcal       int64\n",
      "Protein_(g)    float64\n",
      "dtype: object\n"
     ]
    },
    {
     "ename": "AttributeError",
     "evalue": "'Series' object has no attribute 'split'",
     "output_type": "error",
     "traceback": [
      "\u001B[0;31m---------------------------------------------------------------------------\u001B[0m",
      "\u001B[0;31mAttributeError\u001B[0m                            Traceback (most recent call last)",
      "\u001B[0;32m<ipython-input-20-daa3b231ed59>\u001B[0m in \u001B[0;36m<module>\u001B[0;34m\u001B[0m\n\u001B[1;32m      2\u001B[0m \u001B[0mprint\u001B[0m\u001B[0;34m(\u001B[0m\u001B[0mdf\u001B[0m\u001B[0;34m.\u001B[0m\u001B[0mdtypes\u001B[0m\u001B[0;34m)\u001B[0m\u001B[0;34m\u001B[0m\u001B[0;34m\u001B[0m\u001B[0m\n\u001B[1;32m      3\u001B[0m \u001B[0;32mfor\u001B[0m \u001B[0mdesc\u001B[0m \u001B[0;32min\u001B[0m \u001B[0mdf\u001B[0m\u001B[0;34m[\u001B[0m\u001B[0;34m'Shrt_Desc'\u001B[0m\u001B[0;34m]\u001B[0m\u001B[0;34m:\u001B[0m\u001B[0;34m\u001B[0m\u001B[0;34m\u001B[0m\u001B[0m\n\u001B[0;32m----> 4\u001B[0;31m     \u001B[0mdesc\u001B[0m \u001B[0;34m=\u001B[0m \u001B[0mdesc\u001B[0m\u001B[0;34m.\u001B[0m\u001B[0msplit\u001B[0m\u001B[0;34m(\u001B[0m\u001B[0;34m\",\"\u001B[0m\u001B[0;34m)\u001B[0m\u001B[0;34m\u001B[0m\u001B[0;34m\u001B[0m\u001B[0m\n\u001B[0m\u001B[1;32m      5\u001B[0m     \u001B[0mcount\u001B[0m \u001B[0;34m=\u001B[0m \u001B[0;36m0\u001B[0m\u001B[0;34m\u001B[0m\u001B[0;34m\u001B[0m\u001B[0m\n\u001B[1;32m      6\u001B[0m     \u001B[0mresult\u001B[0m \u001B[0;34m=\u001B[0m \u001B[0;34m\"\"\u001B[0m\u001B[0;34m\u001B[0m\u001B[0;34m\u001B[0m\u001B[0m\n",
      "\u001B[0;32m/Library/Frameworks/Python.framework/Versions/3.9/lib/python3.9/site-packages/pandas/core/generic.py\u001B[0m in \u001B[0;36m__getattr__\u001B[0;34m(self, name)\u001B[0m\n\u001B[1;32m   5463\u001B[0m             \u001B[0;32mif\u001B[0m \u001B[0mself\u001B[0m\u001B[0;34m.\u001B[0m\u001B[0m_info_axis\u001B[0m\u001B[0;34m.\u001B[0m\u001B[0m_can_hold_identifiers_and_holds_name\u001B[0m\u001B[0;34m(\u001B[0m\u001B[0mname\u001B[0m\u001B[0;34m)\u001B[0m\u001B[0;34m:\u001B[0m\u001B[0;34m\u001B[0m\u001B[0;34m\u001B[0m\u001B[0m\n\u001B[1;32m   5464\u001B[0m                 \u001B[0;32mreturn\u001B[0m \u001B[0mself\u001B[0m\u001B[0;34m[\u001B[0m\u001B[0mname\u001B[0m\u001B[0;34m]\u001B[0m\u001B[0;34m\u001B[0m\u001B[0;34m\u001B[0m\u001B[0m\n\u001B[0;32m-> 5465\u001B[0;31m             \u001B[0;32mreturn\u001B[0m \u001B[0mobject\u001B[0m\u001B[0;34m.\u001B[0m\u001B[0m__getattribute__\u001B[0m\u001B[0;34m(\u001B[0m\u001B[0mself\u001B[0m\u001B[0;34m,\u001B[0m \u001B[0mname\u001B[0m\u001B[0;34m)\u001B[0m\u001B[0;34m\u001B[0m\u001B[0;34m\u001B[0m\u001B[0m\n\u001B[0m\u001B[1;32m   5466\u001B[0m \u001B[0;34m\u001B[0m\u001B[0m\n\u001B[1;32m   5467\u001B[0m     \u001B[0;32mdef\u001B[0m \u001B[0m__setattr__\u001B[0m\u001B[0;34m(\u001B[0m\u001B[0mself\u001B[0m\u001B[0;34m,\u001B[0m \u001B[0mname\u001B[0m\u001B[0;34m:\u001B[0m \u001B[0mstr\u001B[0m\u001B[0;34m,\u001B[0m \u001B[0mvalue\u001B[0m\u001B[0;34m)\u001B[0m \u001B[0;34m->\u001B[0m \u001B[0;32mNone\u001B[0m\u001B[0;34m:\u001B[0m\u001B[0;34m\u001B[0m\u001B[0;34m\u001B[0m\u001B[0m\n",
      "\u001B[0;31mAttributeError\u001B[0m: 'Series' object has no attribute 'split'"
     ]
    }
   ],
   "source": [
    "#BUTTER W/,NORMAL,VIE VIT_C HOHO,PUDD,NORMAL2\n",
    "print(df.dtypes)\n",
    "for desc in df['Shrt_Desc']:\n",
    "    desc = desc.split(\",\")\n",
    "    count = 0\n",
    "    result = \"\"\n",
    "    for token in desc:\n",
    "        if myTable['ABBREV'].str.contains(token).any():\n",
    "            token = myTable[myTable['ABBREV'].str.match(token)]['FOOD']\n",
    "            result = result + token + \",\"\n",
    "        elif ' ' in token:\n",
    "            elements = token.split(' ')\n",
    "            for element in elements:\n",
    "                if myTable['ABBREV'].str.contains(element).any():\n",
    "                    element = myTable[myTable['ABBREV'].str.match(element)]['FOOD']\n",
    "                    result = result + element.str.upper() + \" \"\n",
    "                else:\n",
    "                    result = result + element + \" \"\n",
    "            result = result[:-1] + \",\"\n",
    "        else:\n",
    "            result = result + token + \",\" \n",
    "            \n",
    "    result = result[:-1]\n",
    "    df.at[count,'Shrt_Desc']=result\n",
    "    count = count + 1\n",
    "\n",
    "print (df)\n"
   ]
  },
  {
   "cell_type": "code",
   "execution_count": null,
   "id": "compatible-inventory",
   "metadata": {},
   "outputs": [],
   "source": []
  }
 ],
 "metadata": {
  "kernelspec": {
   "display_name": "Python 3",
   "language": "python",
   "name": "python3"
  },
  "language_info": {
   "codemirror_mode": {
    "name": "ipython",
    "version": 3
   },
   "file_extension": ".py",
   "mimetype": "text/x-python",
   "name": "python",
   "nbconvert_exporter": "python",
   "pygments_lexer": "ipython3",
   "version": "3.9.1"
  }
 },
 "nbformat": 4,
 "nbformat_minor": 5
}