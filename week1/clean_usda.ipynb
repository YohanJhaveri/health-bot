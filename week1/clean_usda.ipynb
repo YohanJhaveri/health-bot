{
 "cells": [
  {
   "cell_type": "code",
   "execution_count": 4,
   "id": "671df4c0",
   "metadata": {},
   "outputs": [
    {
     "name": "stdout",
     "output_type": "stream",
     "text": [
      "Requirement already satisfied: pandas in /Users/chloelam/PycharmProjects/health-bot/venv/lib/python3.9/site-packages (1.2.3)\r\n",
      "Requirement already satisfied: pytz>=2017.3 in /Users/chloelam/PycharmProjects/health-bot/venv/lib/python3.9/site-packages (from pandas) (2021.1)\r\n",
      "Requirement already satisfied: numpy>=1.16.5 in /Users/chloelam/PycharmProjects/health-bot/venv/lib/python3.9/site-packages (from pandas) (1.20.2)\r\n",
      "Requirement already satisfied: python-dateutil>=2.7.3 in /Users/chloelam/PycharmProjects/health-bot/venv/lib/python3.9/site-packages (from pandas) (2.8.1)\r\n",
      "Requirement already satisfied: six>=1.5 in /Users/chloelam/PycharmProjects/health-bot/venv/lib/python3.9/site-packages (from python-dateutil>=2.7.3->pandas) (1.15.0)\r\n"
     ]
    }
   ],
   "source": [
    "#!pip install pandas\n",
    "#!pip3 install pandas"
   ]
  },
  {
   "cell_type": "code",
   "execution_count": 5,
   "id": "f9316187",
   "metadata": {},
   "outputs": [
    {
     "ename": "ModuleNotFoundError",
     "evalue": "No module named 'pandas'",
     "output_type": "error",
     "traceback": [
      "\u001B[0;31m---------------------------------------------------------------------------\u001B[0m",
      "\u001B[0;31mModuleNotFoundError\u001B[0m                       Traceback (most recent call last)",
      "\u001B[0;32m<ipython-input-5-7dd3504c366f>\u001B[0m in \u001B[0;36m<module>\u001B[0;34m\u001B[0m\n\u001B[0;32m----> 1\u001B[0;31m \u001B[0;32mimport\u001B[0m \u001B[0mpandas\u001B[0m \u001B[0;32mas\u001B[0m \u001B[0mpd\u001B[0m\u001B[0;34m\u001B[0m\u001B[0;34m\u001B[0m\u001B[0m\n\u001B[0m",
      "\u001B[0;31mModuleNotFoundError\u001B[0m: No module named 'pandas'"
     ]
    }
   ],
   "source": [
    "import pandas as pd"
   ]
  },
  {
   "cell_type": "code",
   "execution_count": 1,
   "id": "dominant-local",
   "metadata": {
    "pycharm": {
     "is_executing": true
    }
   },
   "outputs": [
    {
     "name": "stdout",
     "output_type": "stream",
     "text": [
      "Requirement already satisfied: pandas in /Users/chloelam/.conda/envs/health-bot/lib/python3.8/site-packages (1.2.3)\r\n",
      "Requirement already satisfied: python-dateutil>=2.7.3 in /Users/chloelam/.conda/envs/health-bot/lib/python3.8/site-packages (from pandas) (2.8.1)\r\n",
      "Requirement already satisfied: pytz>=2017.3 in /Users/chloelam/.conda/envs/health-bot/lib/python3.8/site-packages (from pandas) (2021.1)\r\n",
      "Requirement already satisfied: numpy>=1.16.5 in /Users/chloelam/.conda/envs/health-bot/lib/python3.8/site-packages (from pandas) (1.19.2)\r\n",
      "Requirement already satisfied: six>=1.5 in /Users/chloelam/.conda/envs/health-bot/lib/python3.8/site-packages (from python-dateutil>=2.7.3->pandas) (1.15.0)\r\n"
     ]
    },
    {
     "ename": "ModuleNotFoundError",
     "evalue": "No module named 'pandas'",
     "output_type": "error",
     "traceback": [
      "\u001B[0;31m---------------------------------------------------------------------------\u001B[0m",
      "\u001B[0;31mModuleNotFoundError\u001B[0m                       Traceback (most recent call last)",
      "\u001B[0;32m<ipython-input-1-78593698a9f5>\u001B[0m in \u001B[0;36m<module>\u001B[0;34m\u001B[0m\n\u001B[1;32m      1\u001B[0m \u001B[0mget_ipython\u001B[0m\u001B[0;34m(\u001B[0m\u001B[0;34m)\u001B[0m\u001B[0;34m.\u001B[0m\u001B[0msystem\u001B[0m\u001B[0;34m(\u001B[0m\u001B[0;34m'pip install pandas'\u001B[0m\u001B[0;34m)\u001B[0m\u001B[0;34m\u001B[0m\u001B[0;34m\u001B[0m\u001B[0m\n\u001B[0;32m----> 2\u001B[0;31m \u001B[0;32mimport\u001B[0m \u001B[0mpandas\u001B[0m \u001B[0;32mas\u001B[0m \u001B[0mpd\u001B[0m\u001B[0;34m\u001B[0m\u001B[0;34m\u001B[0m\u001B[0m\n\u001B[0m\u001B[1;32m      3\u001B[0m \u001B[0;34m\u001B[0m\u001B[0m\n\u001B[1;32m      4\u001B[0m \u001B[0mdf\u001B[0m \u001B[0;34m=\u001B[0m \u001B[0mpd\u001B[0m\u001B[0;34m.\u001B[0m\u001B[0mread_csv\u001B[0m\u001B[0;34m(\u001B[0m\u001B[0;34m'usda_abbrev.csv'\u001B[0m\u001B[0;34m)\u001B[0m\u001B[0;34m\u001B[0m\u001B[0;34m\u001B[0m\u001B[0m\n\u001B[1;32m      5\u001B[0m \u001B[0mmyTable\u001B[0m \u001B[0;34m=\u001B[0m \u001B[0mpd\u001B[0m\u001B[0;34m.\u001B[0m\u001B[0mread_csv\u001B[0m\u001B[0;34m(\u001B[0m\u001B[0;34m'Updated_Abbreviations_in_Shrt_Desc.csv'\u001B[0m\u001B[0;34m)\u001B[0m\u001B[0;34m\u001B[0m\u001B[0;34m\u001B[0m\u001B[0m\n",
      "\u001B[0;31mModuleNotFoundError\u001B[0m: No module named 'pandas'"
     ]
    }
   ],
   "source": [
    "!pip install pandas\n",
    "import pandas as pd\n",
    "\n",
    "df = pd.read_csv('usda_abbrev.csv')\n",
    "myTable = pd.read_csv('Updated_Abbreviations_in_Shrt_Desc.csv')"
   ]
  },
  {
   "cell_type": "code",
   "execution_count": 2,
   "id": "prostate-funds",
   "metadata": {},
   "outputs": [],
   "source": [
    "# tokenize the items in the shrt_desc\n",
    "import re\n",
    "\n",
    "def tokenize_regex(text):\n",
    "    RE_TOK = re.compile(r'([\",&()-/]|n\\'t|\\s+)')    # tokenize with , & ( ) - /\n",
    "\n",
    "    prev_idx = 0\n",
    "    tokens = []\n",
    "    for m in RE_TOK.finditer(text):\n",
    "        t = text[prev_idx:m.start()].strip()\n",
    "        if t: tokens.append(t)\n",
    "        t = m.group().strip()\n",
    "        if t:\n",
    "            if tokens and tokens[-1] in {'W', 'WO'} and t == '/':   # tokenize W/ and WO/ as one token\n",
    "                tokens[-1] = tokens[-1] + t\n",
    "            else:\n",
    "                tokens.append(t)\n",
    "        prev_idx = m.end()\n",
    "\n",
    "    t = text[prev_idx:].strip()\n",
    "    if t: tokens.append(t)\n",
    "    return tokens"
   ]
  },
  {
   "cell_type": "code",
   "execution_count": null,
   "id": "hollywood-promotion",
   "metadata": {},
   "outputs": [],
   "source": [
    "count = 0\n",
    "for desc in df['Shrt_Desc']:        # for each desc in Shrt_Desc column\n",
    "    tokens = tokenize_regex(desc)   # tokenize the desc\n",
    "    result = \"\"\n",
    "\n",
    "    for token in tokens:            # for each token in tokens\n",
    "        if token == \"LESS\" or token == \"OIL\" or token == \"BLUE\": result = result + \" \" + token      # these tokens are part of substrings in ABBREV, but we do not want to change them\n",
    "        elif myTable['ABBREV'].str.contains(token, regex = False).any():                            # if ABBREV contains the token\n",
    "            token = myTable[myTable['ABBREV'].str.contains(token, regex = False)].iloc[0]['FOOD']   # replace the abbreviated token with the full-word\n",
    "            if result[-1:] == \"(\": result = result + token.upper()\n",
    "            else: result = result + \" \" + token.upper()\n",
    "\n",
    "        elif token == ',' or token == \")\" or result[-1:] == \"(\": result = result + token\n",
    "        elif token == \".\": continue\n",
    "        else: result = result + \" \" + token\n",
    "\n",
    "    if result[0] == \" \": result = result[1:]\n",
    "\n",
    "    df.at[count,'Shrt_Desc'] = result\n",
    "    count = count + 1\n",
    "\n",
    "df.to_csv (\"cleaned_usda.csv\", index = False)\n",
    "# print (df)"
   ]
  },
  {
   "cell_type": "code",
   "execution_count": null,
   "id": "recognized-russia",
   "metadata": {},
   "outputs": [],
   "source": []
  }
 ],
 "metadata": {
  "kernelspec": {
   "display_name": "Python 3",
   "language": "python",
   "name": "python3"
  },
  "language_info": {
   "codemirror_mode": {
    "name": "ipython",
    "version": 3
   },
   "file_extension": ".py",
   "mimetype": "text/x-python",
   "name": "python",
   "nbconvert_exporter": "python",
   "pygments_lexer": "ipython3",
   "version": "3.9.1"
  }
 },
 "nbformat": 4,
 "nbformat_minor": 5
}