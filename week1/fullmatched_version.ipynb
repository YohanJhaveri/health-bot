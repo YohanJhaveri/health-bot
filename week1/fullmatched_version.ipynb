{
 "cells": [
  {
   "cell_type": "code",
   "execution_count": 155,
   "id": "parental-browser",
   "metadata": {},
   "outputs": [],
   "source": [
    "import pandas as pd\n",
    "\n",
    "df = pd.read_csv('usda_abbrev.csv')\n",
    "myTable = pd.read_csv('Abbreviations_in_Shrt_Desc.csv')"
   ]
  },
  {
   "cell_type": "code",
   "execution_count": 156,
   "id": "verified-blake",
   "metadata": {},
   "outputs": [],
   "source": [
    "\n",
    "# tokenize the items in the shrt_desc\n",
    "import re\n",
    "\n",
    "def tokenize_regex(text):\n",
    "    RE_TOK = re.compile(r'([\",&()-/]|\\s)')    # tokenize with , & ( ) - /\n",
    "\n",
    "    prev_idx = 0\n",
    "    tokens = []\n",
    "    for m in RE_TOK.finditer(text):\n",
    "        t = text[prev_idx:m.start()].strip()\n",
    "        if t: tokens.append(t)\n",
    "        t = m.group().strip()\n",
    "        if t:\n",
    "            if tokens and tokens[-1] in {'W', 'WO'} and t == '/':   # tokenize W/ and WO/ as one token\n",
    "                tokens[-1] = tokens[-1] + t\n",
    "            else:\n",
    "                tokens.append(t)\n",
    "        prev_idx = m.end()\n",
    "\n",
    "    t = text[prev_idx:].strip()\n",
    "    if t: tokens.append(t)\n",
    "    return tokens\n"
   ]
  },
  {
   "cell_type": "code",
   "execution_count": 157,
   "id": "graphic-winning",
   "metadata": {},
   "outputs": [],
   "source": [
    "count = 0\n",
    "for desc in df['Shrt_Desc']:  # for each desc in Shrt_Desc column\n",
    "    tokens = tokenize_regex(desc)   # tokenize the desc\n",
    "    result = \"\"\n",
    "    for token in tokens:   # for each token in tokens\n",
    "        if token == \"LESS\" or token == \"OIL\" or token == \"BLUE\": result = result + \" \" + token      # these tokens are part of substrings in ABBREV, but we do not want to change them\n",
    "        elif token == ',' or \")\" or \"(\" or \"+\" or result[-1:] == \"(\": result = result + token\n",
    "        elif token == \".\": continue\n",
    "        elif myTable['ABBREV'].str.fullmatch(token).any():      # if ABBREV contains the token\n",
    "            token = myTable[myTable['ABBREV'].str.fullmatch(token)].iloc[0]['WORD']\n",
    "            if (result[-1:] == \"(\"): result = result + token.upper()\n",
    "            else: result = result + \" \" + token.upper()    \n",
    "        else: result = result + \" \" + token\n",
    "\n",
    "    if result[0] == \" \": result = result[1:]\n",
    "    df.at[count,'Shrt_Desc'] = result\n",
    "    count = count + 1\n",
    "\n",
    "df.to_csv (\"cleaned_usda.csv\", index = False)\n",
    "#print (\"done\")"
   ]
  },
  {
   "cell_type": "code",
   "execution_count": null,
   "id": "juvenile-partner",
   "metadata": {},
   "outputs": [],
   "source": []
  }
 ],
 "metadata": {
  "kernelspec": {
   "display_name": "Python 3",
   "language": "python",
   "name": "python3"
  },
  "language_info": {
   "codemirror_mode": {
    "name": "ipython",
    "version": 3
   },
   "file_extension": ".py",
   "mimetype": "text/x-python",
   "name": "python",
   "nbconvert_exporter": "python",
   "pygments_lexer": "ipython3",
   "version": "3.9.1"
  }
 },
 "nbformat": 4,
 "nbformat_minor": 5
}
