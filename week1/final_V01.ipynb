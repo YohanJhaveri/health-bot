{
 "cells": [
  {
   "cell_type": "code",
<<<<<<< HEAD
   "execution_count": null,
=======
   "execution_count": 1,
>>>>>>> 7c5561b5aa4b239fce0c4bf35f1f93e9ce0a0112
   "id": "small-trauma",
   "metadata": {},
   "outputs": [],
   "source": [
    "import pandas as pd\n",
    "\n",
    "df = pd.read_csv('sr28abxl_ABBREV.csv')\n",
<<<<<<< HEAD
    "#df = df.head(20)\n",
    "df = df.iloc(49)\n",
    "myTable = pd.read_csv('terriblePDFtoExcel.csv')\n",
    "print(df)\n",
    "#print(df.head(50))\n",
    "#print(df.iloc[[49]])"
=======
    "myTable = pd.read_csv('terriblePDFtoExcel.csv')\n",
    "\n",
    "#print(df.head(5))\n",
    "#print(df)"
>>>>>>> 7c5561b5aa4b239fce0c4bf35f1f93e9ce0a0112
   ]
  },
  {
   "cell_type": "code",
<<<<<<< HEAD
   "execution_count": null,
   "id": "olive-organizer",
   "metadata": {},
   "outputs": [],
   "source": [
    "#test2 is the best one so far but still need to fix one case with \"w/word\" in addition to \"w/ word\"\n",
    "count = 0\n",
    "for desc in df['Shrt_Desc']:\n",
    "    desc = desc.split(\",\")\n",
    "    result = \"\"\n",
    "    for token in desc:\n",
    "        if myTable['ABBREV'].str.contains(token, regex = False).any():\n",
    "            token = myTable[myTable['ABBREV'].str.contains(token, regex = False)].iloc[0]['FOOD']\n",
    "            result = result + token.upper() + \",\"\n",
    "        elif ' ' in token:\n",
    "            elements = token.split(' ')\n",
    "            for element in elements:\n",
    "                if myTable['ABBREV'].str.contains(element, regex = False).any():\n",
    "                    element = myTable[myTable['ABBREV'].str.contains(element, regex = False)].iloc[0]['FOOD']\n",
    "                    result = result + element.upper() + \" \"\n",
=======
   "execution_count": 2,
   "id": "olive-organizer",
   "metadata": {},
   "outputs": [
    {
     "name": "stdout",
     "output_type": "stream",
     "text": [
      "BUTTER,WITH SALT\n",
      "BUTTER,WHIPPED,W/ SALT\n"
     ]
    },
    {
     "ename": "AttributeError",
     "evalue": "'Series' object has no attribute 'match'",
     "output_type": "error",
     "traceback": [
      "\u001b[0;31m---------------------------------------------------------------------------\u001b[0m",
      "\u001b[0;31mAttributeError\u001b[0m                            Traceback (most recent call last)",
      "\u001b[0;32m<ipython-input-2-37ebbd740fcd>\u001b[0m in \u001b[0;36m<module>\u001b[0;34m\u001b[0m\n\u001b[1;32m     13\u001b[0m             \u001b[0;32mfor\u001b[0m \u001b[0melement\u001b[0m \u001b[0;32min\u001b[0m \u001b[0melements\u001b[0m\u001b[0;34m:\u001b[0m\u001b[0;34m\u001b[0m\u001b[0;34m\u001b[0m\u001b[0m\n\u001b[1;32m     14\u001b[0m                 \u001b[0;32mif\u001b[0m \u001b[0mmyTable\u001b[0m\u001b[0;34m[\u001b[0m\u001b[0;34m'ABBREV'\u001b[0m\u001b[0;34m]\u001b[0m\u001b[0;34m.\u001b[0m\u001b[0mstr\u001b[0m\u001b[0;34m.\u001b[0m\u001b[0mcontains\u001b[0m\u001b[0;34m(\u001b[0m\u001b[0melement\u001b[0m\u001b[0;34m)\u001b[0m\u001b[0;34m.\u001b[0m\u001b[0many\u001b[0m\u001b[0;34m(\u001b[0m\u001b[0;34m)\u001b[0m\u001b[0;34m:\u001b[0m\u001b[0;34m\u001b[0m\u001b[0;34m\u001b[0m\u001b[0m\n\u001b[0;32m---> 15\u001b[0;31m                     \u001b[0melement\u001b[0m \u001b[0;34m=\u001b[0m \u001b[0mmyTable\u001b[0m\u001b[0;34m[\u001b[0m\u001b[0mmyTable\u001b[0m\u001b[0;34m[\u001b[0m\u001b[0;34m'ABBREV'\u001b[0m\u001b[0;34m]\u001b[0m\u001b[0;34m.\u001b[0m\u001b[0mmatch\u001b[0m\u001b[0;34m(\u001b[0m\u001b[0melement\u001b[0m\u001b[0;34m)\u001b[0m\u001b[0;34m]\u001b[0m\u001b[0;34m[\u001b[0m\u001b[0;34m'FOOD'\u001b[0m\u001b[0;34m]\u001b[0m\u001b[0;34m\u001b[0m\u001b[0;34m\u001b[0m\u001b[0m\n\u001b[0m\u001b[1;32m     16\u001b[0m                     \u001b[0mresult\u001b[0m \u001b[0;34m=\u001b[0m \u001b[0mresult\u001b[0m \u001b[0;34m+\u001b[0m \u001b[0melement\u001b[0m\u001b[0;34m.\u001b[0m\u001b[0mstr\u001b[0m\u001b[0;34m.\u001b[0m\u001b[0mupper\u001b[0m\u001b[0;34m(\u001b[0m\u001b[0;34m)\u001b[0m \u001b[0;34m+\u001b[0m \u001b[0;34m\" \"\u001b[0m\u001b[0;34m\u001b[0m\u001b[0;34m\u001b[0m\u001b[0m\n\u001b[1;32m     17\u001b[0m                 \u001b[0;32melse\u001b[0m\u001b[0;34m:\u001b[0m\u001b[0;34m\u001b[0m\u001b[0;34m\u001b[0m\u001b[0m\n",
      "\u001b[0;32m/Library/Frameworks/Python.framework/Versions/3.9/lib/python3.9/site-packages/pandas/core/generic.py\u001b[0m in \u001b[0;36m__getattr__\u001b[0;34m(self, name)\u001b[0m\n\u001b[1;32m   5463\u001b[0m             \u001b[0;32mif\u001b[0m \u001b[0mself\u001b[0m\u001b[0;34m.\u001b[0m\u001b[0m_info_axis\u001b[0m\u001b[0;34m.\u001b[0m\u001b[0m_can_hold_identifiers_and_holds_name\u001b[0m\u001b[0;34m(\u001b[0m\u001b[0mname\u001b[0m\u001b[0;34m)\u001b[0m\u001b[0;34m:\u001b[0m\u001b[0;34m\u001b[0m\u001b[0;34m\u001b[0m\u001b[0m\n\u001b[1;32m   5464\u001b[0m                 \u001b[0;32mreturn\u001b[0m \u001b[0mself\u001b[0m\u001b[0;34m[\u001b[0m\u001b[0mname\u001b[0m\u001b[0;34m]\u001b[0m\u001b[0;34m\u001b[0m\u001b[0;34m\u001b[0m\u001b[0m\n\u001b[0;32m-> 5465\u001b[0;31m             \u001b[0;32mreturn\u001b[0m \u001b[0mobject\u001b[0m\u001b[0;34m.\u001b[0m\u001b[0m__getattribute__\u001b[0m\u001b[0;34m(\u001b[0m\u001b[0mself\u001b[0m\u001b[0;34m,\u001b[0m \u001b[0mname\u001b[0m\u001b[0;34m)\u001b[0m\u001b[0;34m\u001b[0m\u001b[0;34m\u001b[0m\u001b[0m\n\u001b[0m\u001b[1;32m   5466\u001b[0m \u001b[0;34m\u001b[0m\u001b[0m\n\u001b[1;32m   5467\u001b[0m     \u001b[0;32mdef\u001b[0m \u001b[0m__setattr__\u001b[0m\u001b[0;34m(\u001b[0m\u001b[0mself\u001b[0m\u001b[0;34m,\u001b[0m \u001b[0mname\u001b[0m\u001b[0;34m:\u001b[0m \u001b[0mstr\u001b[0m\u001b[0;34m,\u001b[0m \u001b[0mvalue\u001b[0m\u001b[0;34m)\u001b[0m \u001b[0;34m->\u001b[0m \u001b[0;32mNone\u001b[0m\u001b[0;34m:\u001b[0m\u001b[0;34m\u001b[0m\u001b[0;34m\u001b[0m\u001b[0m\n",
      "\u001b[0;31mAttributeError\u001b[0m: 'Series' object has no attribute 'match'"
     ]
    }
   ],
   "source": [
    "#BUTTER W/,NORMAL,VIE VIT_C HOHO,PUDD,NORMAL2\n",
    "for i, row in df.iterrows():\n",
    "    descs = row['Shrt_Desc']\n",
    "    print(descs)\n",
    "    desc = descs.split(',')\n",
    "    result = \"\"\n",
    "    for token in desc:\n",
    "        if myTable['ABBREV'].str.contains(token).any():\n",
    "            token = myTable[myTable['ABBREV'].str.match(token)].iloc[0]['FOOD']\n",
    "            result = result + token + \",\"\n",
    "        elif ' ' in token:\n",
    "            elements = token.split(' ')\n",
    "            for element in elements:\n",
    "                if myTable['ABBREV'].str.contains(element).any():\n",
    "                    element = myTable[myTable['ABBREV'].match(element)]['FOOD']\n",
    "                    result = result + element.str.upper() + \" \"\n",
>>>>>>> 7c5561b5aa4b239fce0c4bf35f1f93e9ce0a0112
    "                else:\n",
    "                    result = result + element + \" \"\n",
    "            result = result[:-1] + \",\"\n",
    "        else:\n",
    "            result = result + token + \",\" \n",
    "            \n",
    "    result = result[:-1]\n",
<<<<<<< HEAD
    "    df.at[count,'Shrt_Desc']=result\n",
    "    count = count + 1\n",
    "#df.to_csv (\"export_dataframe.csv\", index = False)\n",
    "print (df)\n"
=======
    "    df.at[i,'Shrt_Desc']=result          \n",
    "\n",
    "print (df['Shrt_Desc'].HEAD(11))\n",
    "\n"
>>>>>>> 7c5561b5aa4b239fce0c4bf35f1f93e9ce0a0112
   ]
  },
  {
   "cell_type": "code",
   "execution_count": null,
   "id": "according-enlargement",
   "metadata": {},
   "outputs": [],
   "source": []
  }
 ],
 "metadata": {
  "kernelspec": {
   "display_name": "Python 3",
   "language": "python",
   "name": "python3"
  },
  "language_info": {
   "codemirror_mode": {
    "name": "ipython",
    "version": 3
   },
   "file_extension": ".py",
   "mimetype": "text/x-python",
   "name": "python",
   "nbconvert_exporter": "python",
   "pygments_lexer": "ipython3",
   "version": "3.9.1"
  }
 },
 "nbformat": 4,
 "nbformat_minor": 5
}
