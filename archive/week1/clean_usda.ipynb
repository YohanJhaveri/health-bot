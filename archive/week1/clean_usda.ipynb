version https://git-lfs.github.com/spec/v1
oid sha256:5887bf6b1ab3d597d7503c581357f2bc21f21db142780f02354abe6f6200c1b0
size 6386
