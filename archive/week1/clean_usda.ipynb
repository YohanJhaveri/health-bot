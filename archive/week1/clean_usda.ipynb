version https://git-lfs.github.com/spec/v1
oid sha256:d9ae5fa8cfe4c10a9c7ca584c81f1790f7a81db035cce66ac5fc484ffbde497c
size 7972
