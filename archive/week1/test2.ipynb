version https://git-lfs.github.com/spec/v1
oid sha256:85a053bb7cce59d97e3775d8c009000bc020defc7a667f03566aa45a768ba68d
size 2405
