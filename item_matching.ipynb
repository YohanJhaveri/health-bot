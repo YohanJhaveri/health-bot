{
 "cells": [
  {
   "cell_type": "code",
   "execution_count": 1,
   "id": "manufactured-venezuela",
   "metadata": {},
   "outputs": [],
   "source": [
    "import pandas as pd\n",
    "import numpy as np\n",
    "import spacy\n",
    "from spellchecker import SpellChecker"
   ]
  },
  {
   "cell_type": "code",
   "execution_count": 2,
   "id": "comprehensive-lingerie",
   "metadata": {},
   "outputs": [],
   "source": [
    "nlp = spacy.load(\"en_core_web_sm\")\n",
    "\n",
    "def keep(token):\n",
    "    if token.is_stop: return False\n",
    "    if not token.is_alpha: return False\n",
    "    return True\n",
    "\n",
    "def spell_check(text):\n",
    "    spell = SpellChecker()\n",
    "    \n",
    "    # split each clause by whitespaces\n",
    "    for word in text.split():\n",
    "        mispelled = spell.unknown(word)\n",
    "        if mispelled: text = text.replace(word, spell.correction(word))\n",
    "                \n",
    "    return text\n",
    "    \n",
    "\n",
    "def normalize(item):\n",
    "    doc = nlp(item)\n",
    "    print(item)\n",
    "    return spell_check(\" \".join([str(token.lemma_) for token in doc if keep(token)]))\n"
   ]
  },
  {
   "cell_type": "code",
   "execution_count": 9,
   "id": "widespread-consolidation",
   "metadata": {},
   "outputs": [],
   "source": [
    "df = pd.read_csv(\"./cleaned_more.csv\")\n",
    "foods = np.array(df[\"Shrt_Desc\"])\n"
   ]
  },
  {
   "cell_type": "code",
   "execution_count": 10,
   "id": "reserved-railway",
   "metadata": {},
   "outputs": [],
   "source": [
    "def edit_distance(s, t):\n",
    "    if s == \"\": return len(t)\n",
    "    if t == \"\": return len(s)\n",
    "    rs = s[:-1]\n",
    "    rt = t[:-1]\n",
    "    cost = s[-1] != t[-1]\n",
    "    \n",
    "    return min([\n",
    "        edit_distance(rs, t) + 1, \n",
    "        edit_distance(s, rt) + 1, \n",
    "        edit_distance(rs, rt) + cost\n",
    "    ])\n"
   ]
  },
  {
   "cell_type": "code",
   "execution_count": 37,
   "id": "italic-guard",
   "metadata": {},
   "outputs": [],
   "source": [
    "hashmap = dict()\n",
    "\n",
    "def dynamic_distance(s, t):\n",
    "    key = str(sorted([s, t]))\n",
    "    stored = hashmap.get(key, None)\n",
    "    \n",
    "    if not stored:\n",
    "        hashmap[key] = edit_distance(s, t)\n",
    "        \n",
    "    return hashmap[key]"
   ]
  },
  {
   "cell_type": "code",
   "execution_count": 42,
   "id": "sharp-upper",
   "metadata": {},
   "outputs": [],
   "source": [
    "MIN_EDIT_DISTANCE_THRESHOLD = 0.8\n",
    "\n",
    "def is_match(t1, t2):\n",
    "    max_changes = round((1 - MIN_EDIT_DISTANCE_THRESHOLD) * len(t2))\n",
    "    return dynamic_distance(t1, t2) <= max_changes\n"
   ]
  },
  {
   "cell_type": "code",
   "execution_count": 48,
   "id": "saving-container",
   "metadata": {},
   "outputs": [],
   "source": [
    "def match_item(foods, item):\n",
    "    item_tokens = normalize(item).split()\n",
    "\n",
    "    match_counts = list()\n",
    "    \n",
    "    for food in foods:\n",
    "        food_tokens = food.lower().split()\n",
    "        match_count = 0\n",
    "        \n",
    "        if food_tokens[0].lower() == item_tokens[-1]:\n",
    "        \n",
    "            for i1, t1 in enumerate(item_tokens):\n",
    "\n",
    "\n",
    "                index = next((i2 for i2, t2 in enumerate(food_tokens) if is_match(t1, t2)), None)\n",
    "\n",
    "                if index != None:\n",
    "                    food_tokens.pop(index)\n",
    "                    match_count += 1\n",
    "\n",
    "                match_counts.append((match_count, -len(food), food))\n",
    "        \n",
    "    return max(match_counts)[2]\n"
   ]
  },
  {
   "cell_type": "code",
   "execution_count": 49,
   "id": "stock-garden",
   "metadata": {},
   "outputs": [
    {
     "name": "stdout",
     "output_type": "stream",
     "text": [
      "mozzerella cheese\n",
      "CHEESE MOZZARELLA MILK\n",
      "34.36539697647095\n"
     ]
    }
   ],
   "source": [
    "import time\n",
    "start = time.time()\n",
    "closest = match_item(foods, \"mozzerella cheese\")\n",
    "end = time.time()\n",
    "print(closest)\n",
    "print(end - start)"
   ]
  },
  {
   "cell_type": "code",
   "execution_count": null,
   "id": "facial-secondary",
   "metadata": {},
   "outputs": [],
   "source": []
  },
  {
   "cell_type": "code",
   "execution_count": 24,
   "id": "enclosed-seafood",
   "metadata": {},
   "outputs": [
    {
     "data": {
      "text/plain": [
       "2"
      ]
     },
     "execution_count": 24,
     "metadata": {},
     "output_type": "execute_result"
    }
   ],
   "source": [
    "edit_distance(\"mozzerella\", \"mozerela\")"
   ]
  },
  {
   "cell_type": "code",
   "execution_count": null,
   "id": "harmful-ticket",
   "metadata": {},
   "outputs": [],
   "source": []
  }
 ],
 "metadata": {
  "kernelspec": {
   "display_name": "Python 3",
   "language": "python",
   "name": "python3"
  },
  "language_info": {
   "codemirror_mode": {
    "name": "ipython",
    "version": 3
   },
   "file_extension": ".py",
   "mimetype": "text/x-python",
   "name": "python",
   "nbconvert_exporter": "python",
   "pygments_lexer": "ipython3",
   "version": "3.9.1"
  }
 },
 "nbformat": 4,
 "nbformat_minor": 5
}
