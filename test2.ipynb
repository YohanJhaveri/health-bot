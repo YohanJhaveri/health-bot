#%%

import pandas as pd

df = pd.read_csv('sr28abxl_ABBREV.csv')
#df = df.head(200)
#df = df.iloc[[49]]
myTable = pd.read_csv('terriblePDFtoExcel.csv')
#print(df)
#print(df.head(50))
#print(df.iloc[[49]])

#%%

count = 0
for desc in df['Shrt_Desc']:
    desc = desc.split(",")
    result = ""
    for token in desc:
        if myTable['ABBREV'].str.contains(token, regex = False).any():
            token = myTable[myTable['ABBREV'].str.contains(token, regex = False)].iloc[0]['FOOD']
            result = result + token.upper() + ","
        elif ' ' in token:
            elements = token.split(' ')
            for element in elements:
                if myTable['ABBREV'].str.contains(element, regex = False).any():
                    element = myTable[myTable['ABBREV'].str.contains(element, regex = False)].iloc[0]['FOOD']
                    result = result + element.upper() + " "
                else:
                    result = result + element + " "
            result = result[:-1] + ","
        else:
            result = result + token + "," 
            
    result = result[:-1]
    df.at[count,'Shrt_Desc']=result
    count = count + 1
df.to_csv ("export_dataframe.csv", index = False)
#print (df)



#%%


